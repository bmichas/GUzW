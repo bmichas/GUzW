{
 "cells": [
  {
   "cell_type": "markdown",
   "metadata": {},
   "source": [
    "# Laboratorium 5 (4 pkt)\n",
    "\n",
    "Celem czwartego laboratorium jest zapoznanie się oraz zaimplementowanie algorytmów głębokiego uczenia aktywnego. Zaimplementowane algorytmy będą testowane z wykorzystaniem środowiska z OpenAI - *CartPole*.\n"
   ]
  },
  {
   "cell_type": "markdown",
   "metadata": {},
   "source": [
    "Dołączenie standardowych bibliotek"
   ]
  },
  {
   "cell_type": "code",
   "execution_count": 34,
   "metadata": {},
   "outputs": [],
   "source": [
    "from collections import deque\n",
    "import gym\n",
    "import numpy as np\n",
    "import random\n",
    "from tqdm import tqdm\n",
    "import random"
   ]
  },
  {
   "cell_type": "markdown",
   "metadata": {},
   "source": [
    "Dołączenie bibliotek do obsługi sieci neuronowych"
   ]
  },
  {
   "cell_type": "code",
   "execution_count": 35,
   "metadata": {},
   "outputs": [],
   "source": [
    "import tensorflow as tf\n",
    "from tensorflow import keras\n",
    "from tensorflow.keras.models import Sequential\n",
    "from tensorflow.keras.layers import Dense\n",
    "from tensorflow.keras.optimizers import Adam, SGD"
   ]
  },
  {
   "cell_type": "markdown",
   "metadata": {},
   "source": [
    "## Zadanie 1 - Double Deep Q-Network\n",
    "\n",
    "<p style='text-align: justify;'>\n",
    "Celem ćwiczenie jest zaimplementowanie algorytmu Double Deep Q-Network. Wartoscią oczekiwaną sieci jest:\n",
    "\\begin{equation}\n",
    "       Q^*(s, a) \\approx r + \\gamma argmax_{a'}Q_\\theta'(s', a') \n",
    "\\end{equation}\n",
    "a wagi pomiędzy sieciami wymieniane są co dziesięć aktualizacji wag sieci sterującej poczynaniami agenta ($Q$).\n",
    "</p>"
   ]
  },
  {
   "cell_type": "code",
   "execution_count": 36,
   "metadata": {},
   "outputs": [],
   "source": [
    "class DDQNAgent:\n",
    "    def __init__(self, state_size, action_size, model):\n",
    "        self.state_size = state_size\n",
    "        self.action_size = action_size\n",
    "        self.memory = deque(maxlen=2000)\n",
    "        self.gamma = 0.95    # discount rate\n",
    "        self.epsilon = 0.5  # exploration rate\n",
    "        self.epsilon_min = 0.01\n",
    "        self.epsilon_decay = 0.95\n",
    "        self.learning_rate = 0.001\n",
    "        self.model = model\n",
    "        self.target_model = model\n",
    "        self.replay_counter = 1\n",
    "        self.update_weights()\n",
    "        \n",
    "\n",
    "    def remember(self, state, action, reward, next_state, done):\n",
    "        #Function adds information to the memory about last action and its results\n",
    "        self.memory.append((state, action, reward, next_state, done)) \n",
    "\n",
    "    def get_action(self, state):\n",
    "        \"\"\"\n",
    "        Compute the action to take in the current state, including exploration.\n",
    "        With probability self.epsilon, we should take a random action.\n",
    "            otherwise - the best policy action (self.get_best_action).\n",
    "\n",
    "        Note: To pick randomly from a list, use random.choice(list).\n",
    "              To pick True or False with a given probablity, generate uniform number in [0, 1]\n",
    "              and compare it with your probability\n",
    "        \"\"\"\n",
    "\n",
    "        #\n",
    "        # INSERT CODE HERE to get action in a given state (according to epsilon greedy algorithm)\n",
    "        #\n",
    "        epsilon = self.epsilon\n",
    "        if random.random() >= epsilon:\n",
    "            chosen_action = self.get_best_action(state)\n",
    "\n",
    "        else:\n",
    "            chosen_action = random.randrange(2)\n",
    "\n",
    "        return chosen_action\n",
    "\n",
    "  \n",
    "    def get_best_action(self, state):\n",
    "        \"\"\"\n",
    "        Compute the best action to take in a state.\n",
    "        \"\"\"\n",
    "\n",
    "        #\n",
    "        # INSERT CODE HERE to get best possible action in a given state (remember to break ties randomly)\n",
    "        #\n",
    "\n",
    "        prediction = self.model.predict(state, verbose=0)\n",
    "        best_action = np.argmax(prediction)\n",
    "        return best_action\n",
    "\n",
    "    def replay(self, batch_size):\n",
    "        \"\"\"\n",
    "        Function learn network using randomly selected actions from the memory. \n",
    "        First calculates Q value for the next state and choose action with the biggest value.\n",
    "        Target value is calculated according to:\n",
    "                Q(s,a) := (r + gamma * max_a(Q(s', a)))\n",
    "        except the situation when the next action is the last action, in such case Q(s, a) := r.\n",
    "        In order to change only those weights responsible for chosing given action, the rest values should be those\n",
    "        returned by the network for state state.\n",
    "        The network should be trained on batch_size samples.\n",
    "        After each 10 Q Network trainings parameters should be copied to the target Q Network\n",
    "        \"\"\"\n",
    "        #\n",
    "        # INSERT CODE HERE to train network\n",
    "        #\n",
    "\n",
    "        if len(self.memory) < batch_size:\n",
    "            return\n",
    "\n",
    "        batches = random.sample(self.memory, batch_size)\n",
    "        states = np.concatenate([batch[0] for batch in batches])\n",
    "        next_states = np.concatenate([batch[3] for batch in batches])\n",
    "        Q_array = self.model.predict(states, verbose = 0)\n",
    "        Q_next_state_array = self.target_model.predict(next_states, verbose = 0)\n",
    "\n",
    "        for i, batch in enumerate(batches):\n",
    "            _, action, reward, _, done = batch\n",
    "            Q_array[i][action] = reward\n",
    "            if not done:\n",
    "                Q_next_state = max(Q_next_state_array[i])\n",
    "                Q_array[i][action] = reward + Q_next_state * self.gamma\n",
    "\n",
    "        self.model.train_on_batch(states, Q_array)\n",
    "        self.update_weights()\n",
    "        self.replay_counter += 1\n",
    "        \n",
    "\n",
    "    def update_epsilon_value(self):\n",
    "        #Every each epoch epsilon value should be updated according to equation: \n",
    "        #self.epsilon *= self.epsilon_decay, but the updated value shouldn't be lower then epsilon_min value\n",
    "        if self.epsilon > self.epsilon_min:\n",
    "            self.epsilon *= self.epsilon_decay\n",
    "\n",
    "        else:\n",
    "            self.epsilon = self.epsilon_min\n",
    "\n",
    "    def update_weights(self):\n",
    "        \"\"\"copy trained Q Network params to target Q Network\"\"\"\n",
    "        #\n",
    "        # INSERT CODE HERE to train network\n",
    "        #\n",
    "        \n",
    "        if not self.replay_counter % 10:\n",
    "            self.target_model.set_weights(self.model.get_weights())\n"
   ]
  },
  {
   "cell_type": "code",
   "execution_count": 37,
   "metadata": {},
   "outputs": [
    {
     "name": "stdout",
     "output_type": "stream",
     "text": [
      "jest\n",
      "jest\n",
      "jest\n"
     ]
    }
   ],
   "source": [
    "lst = [10,100,50,6]\n",
    "\n",
    "for i in lst:\n",
    "    if not i % 10:\n",
    "        print('jest')"
   ]
  },
  {
   "cell_type": "markdown",
   "metadata": {},
   "source": [
    "Czas przygotować model sieci, która będzie się uczyła działania w środowisku [*CartPool*](https://gym.openai.com/envs/CartPole-v0/):"
   ]
  },
  {
   "cell_type": "code",
   "execution_count": 38,
   "metadata": {},
   "outputs": [
    {
     "name": "stdout",
     "output_type": "stream",
     "text": [
      "2\n",
      "Model: \"sequential_5\"\n",
      "_________________________________________________________________\n",
      " Layer (type)                Output Shape              Param #   \n",
      "=================================================================\n",
      " dense_18 (Dense)            (None, 32)                160       \n",
      "                                                                 \n",
      " dense_19 (Dense)            (None, 64)                2112      \n",
      "                                                                 \n",
      " dense_20 (Dense)            (None, 128)               8320      \n",
      "                                                                 \n",
      " dense_21 (Dense)            (None, 2)                 258       \n",
      "                                                                 \n",
      "=================================================================\n",
      "Total params: 10,850\n",
      "Trainable params: 10,850\n",
      "Non-trainable params: 0\n",
      "_________________________________________________________________\n"
     ]
    }
   ],
   "source": [
    "env = gym.make(\"CartPole-v1\").env\n",
    "state_size = env.observation_space.shape[0]\n",
    "action_size = env.action_space.n\n",
    "print(action_size)\n",
    "learning_rate = 0.001\n",
    "\n",
    "model = Sequential()\n",
    "model.add(Dense(32, input_dim = state_size, activation = 'relu'))\n",
    "model.add(Dense(64, activation = 'relu'))\n",
    "model.add(Dense(128, activation = 'relu'))\n",
    "model.add(Dense(action_size))\n",
    "model.compile (loss ='mse', optimizer = Adam(learning_rate = learning_rate))\n",
    "model.summary()"
   ]
  },
  {
   "cell_type": "markdown",
   "metadata": {},
   "source": [
    "Czas nauczyć agenta gry w środowisku *CartPool*:"
   ]
  },
  {
   "cell_type": "code",
   "execution_count": 39,
   "metadata": {},
   "outputs": [],
   "source": [
    "def one_state(env_state):\n",
    "    state = np.array([np.array(env_state).flatten()])\n",
    "    return state"
   ]
  },
  {
   "cell_type": "code",
   "execution_count": 40,
   "metadata": {},
   "outputs": [
    {
     "name": "stderr",
     "output_type": "stream",
     "text": [
      "100%|██████████| 100/100 [00:23<00:00,  4.18it/s]\n"
     ]
    },
    {
     "name": "stdout",
     "output_type": "stream",
     "text": [
      "epoch #0\tmean reward = 15.220\tepsilon = 0.541\n"
     ]
    },
    {
     "name": "stderr",
     "output_type": "stream",
     "text": [
      "100%|██████████| 100/100 [00:24<00:00,  4.13it/s]\n"
     ]
    },
    {
     "name": "stdout",
     "output_type": "stream",
     "text": [
      "epoch #1\tmean reward = 13.850\tepsilon = 0.489\n"
     ]
    },
    {
     "name": "stderr",
     "output_type": "stream",
     "text": [
      "100%|██████████| 100/100 [00:54<00:00,  1.83it/s]\n"
     ]
    },
    {
     "name": "stdout",
     "output_type": "stream",
     "text": [
      "epoch #2\tmean reward = 33.510\tepsilon = 0.441\n"
     ]
    },
    {
     "name": "stderr",
     "output_type": "stream",
     "text": [
      "100%|██████████| 100/100 [01:40<00:00,  1.00s/it]\n"
     ]
    },
    {
     "name": "stdout",
     "output_type": "stream",
     "text": [
      "epoch #3\tmean reward = 61.410\tepsilon = 0.398\n"
     ]
    },
    {
     "name": "stderr",
     "output_type": "stream",
     "text": [
      "100%|██████████| 100/100 [02:07<00:00,  1.28s/it]\n"
     ]
    },
    {
     "name": "stdout",
     "output_type": "stream",
     "text": [
      "epoch #4\tmean reward = 70.380\tepsilon = 0.359\n"
     ]
    },
    {
     "name": "stderr",
     "output_type": "stream",
     "text": [
      "100%|██████████| 100/100 [02:48<00:00,  1.69s/it]\n"
     ]
    },
    {
     "name": "stdout",
     "output_type": "stream",
     "text": [
      "epoch #5\tmean reward = 91.490\tepsilon = 0.324\n"
     ]
    },
    {
     "name": "stderr",
     "output_type": "stream",
     "text": [
      "100%|██████████| 100/100 [05:21<00:00,  3.21s/it]\n"
     ]
    },
    {
     "name": "stdout",
     "output_type": "stream",
     "text": [
      "epoch #6\tmean reward = 151.240\tepsilon = 0.293\n"
     ]
    },
    {
     "name": "stderr",
     "output_type": "stream",
     "text": [
      "100%|██████████| 100/100 [06:34<00:00,  3.95s/it]\n"
     ]
    },
    {
     "name": "stdout",
     "output_type": "stream",
     "text": [
      "epoch #7\tmean reward = 173.380\tepsilon = 0.264\n"
     ]
    },
    {
     "name": "stderr",
     "output_type": "stream",
     "text": [
      "100%|██████████| 100/100 [09:22<00:00,  5.63s/it]"
     ]
    },
    {
     "name": "stdout",
     "output_type": "stream",
     "text": [
      "epoch #8\tmean reward = 255.450\tepsilon = 0.238\n",
      "You Win!\n"
     ]
    },
    {
     "name": "stderr",
     "output_type": "stream",
     "text": [
      "\n"
     ]
    }
   ],
   "source": [
    "agent = DDQNAgent(action_size, learning_rate, model)\n",
    "\n",
    "agent.epsilon = 0.6\n",
    "\n",
    "done = False\n",
    "batch_size = 64\n",
    "EPISODES = 10000\n",
    "counter = 0\n",
    "for e in range(EPISODES):\n",
    "    summary = []\n",
    "    for _ in tqdm(range(100)):\n",
    "        total_reward = 0\n",
    "        env_state = env.reset()\n",
    "        \n",
    "        #\n",
    "        # INSERT CODE HERE to prepare appropriate format of the state for network\n",
    "        #\n",
    "\n",
    "        state = one_state(env_state[0])\n",
    "        for time in range(1000):\n",
    "            action = agent.get_action(state)\n",
    "            next_state_env, reward, done, _, _ = env.step(action)\n",
    "            total_reward += reward\n",
    "\n",
    "            #\n",
    "            # INSERT CODE HERE to prepare appropriate format of the next state for network\n",
    "            #\n",
    "            next_state = one_state(next_state_env)\n",
    "\n",
    "            #add to experience memory\n",
    "            agent.remember(state, action, reward, next_state, done)\n",
    "            state = next_state\n",
    "            if done:\n",
    "                break\n",
    "\n",
    "        #\n",
    "        # INSERT CODE HERE to train network if in the memory is more samples then size of the batch\n",
    "        #\n",
    "        \n",
    "        if len(agent.memory) > batch_size:\n",
    "            agent.replay(batch_size)\n",
    "            \n",
    "        summary.append(total_reward)\n",
    "\n",
    "    agent.update_epsilon_value()\n",
    "    agent.update_epsilon_value()\n",
    "    print(\"epoch #{}\\tmean reward = {:.3f}\\tepsilon = {:.3f}\".format(e, np.mean(summary), agent.epsilon))\n",
    "    if np.mean(summary) > 195:\n",
    "        print (\"You Win!\")\n",
    "        break\n"
   ]
  }
 ],
 "metadata": {
  "kernelspec": {
   "display_name": "Python 3",
   "language": "python",
   "name": "python3"
  },
  "language_info": {
   "codemirror_mode": {
    "name": "ipython",
    "version": 3
   },
   "file_extension": ".py",
   "mimetype": "text/x-python",
   "name": "python",
   "nbconvert_exporter": "python",
   "pygments_lexer": "ipython3",
   "version": "3.10.4"
  }
 },
 "nbformat": 4,
 "nbformat_minor": 4
}
